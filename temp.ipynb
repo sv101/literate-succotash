{
 "cells": [
  {
   "cell_type": "markdown",
   "metadata": {},
   "source": [
    "Welcome to OOPs Review"
   ]
  },
  {
   "cell_type": "markdown",
   "metadata": {},
   "source": [
    "Part 1: Inheritance  "
   ]
  },
  {
   "cell_type": "markdown",
   "metadata": {},
   "source": [
    "Without Inheritance ->"
   ]
  },
  {
   "cell_type": "code",
   "execution_count": null,
   "metadata": {},
   "outputs": [],
   "source": [
    "class Dog:\n",
    "    number_of_legs = 4\n",
    "    def __init__(self, name, breed):\n",
    "        self.name = name\n",
    "        self.breed = breed\n",
    "        self.is_alive=True\n",
    "    def eat(self):\n",
    "        return f'{self.name} is eating.'\n",
    "    def talk(self):\n",
    "        return f'{self.name} says Woof!'\n",
    "\n",
    "\n",
    "class Cat:\n",
    "    def __init__(self, name, owner):\n",
    "        self.name = name\n",
    "        self.owner = owner\n",
    "        self.is_alive=True\n",
    "    def eat(self):\n",
    "        return f'{self.name} is eating.'\n",
    "    def talk(self):\n",
    "        return f'{self.name} says Meow!'"
   ]
  },
  {
   "cell_type": "markdown",
   "metadata": {},
   "source": [
    "Since all pets have similar features, we can reduce typing out repetative code by creating\n",
    "a parent class and use the parent classes as a blue print to derive sub classes\n",
    "\n",
    "In our example we have defined a pet class and used inheritence to create the Dog class"
   ]
  },
  {
   "cell_type": "code",
   "execution_count": null,
   "metadata": {},
   "outputs": [],
   "source": [
    "class Pet:\n",
    "    def __init__(self, name):\n",
    "        self.name = name\n",
    "        self.is_alive=True\n",
    "    def eat(self):\n",
    "        return f'{self.name} is eating.'\n",
    "    def talk(self):\n",
    "        return f'{self.name}'\n",
    "\n",
    "\n",
    "class Dog(Pet):\n",
    "    number_of_legs = 4\n",
    "    def __init__(self, name, breed):\n",
    "        super().__init__(name)\n",
    "        self.breed = breed\n",
    "        "
   ]
  },
  {
   "cell_type": "code",
   "execution_count": null,
   "metadata": {},
   "outputs": [],
   "source": [
    "rocky = Dog('rocky','street dog')\n",
    "rocky.name"
   ]
  },
  {
   "cell_type": "code",
   "execution_count": null,
   "metadata": {},
   "outputs": [],
   "source": [
    "rocky.eat()"
   ]
  },
  {
   "cell_type": "markdown",
   "metadata": {},
   "source": [
    "Part 2: Method Overriding"
   ]
  },
  {
   "cell_type": "markdown",
   "metadata": {},
   "source": [
    "Our parent class has a method called 'talk'. However, we would like to customize it to work better for a Dog, thus we have overriden the method from the parent with the same method name."
   ]
  },
  {
   "cell_type": "code",
   "execution_count": null,
   "metadata": {},
   "outputs": [],
   "source": [
    "class Pet:\n",
    "    def __init__(self, name):\n",
    "        self.name = name\n",
    "        self.is_alive=True\n",
    "    def eat(self):\n",
    "        return f'{self.name} is eating.'\n",
    "    def talk(self):\n",
    "        return f'{self.name}'\n",
    "\n",
    "\n",
    "class Dog(Pet):\n",
    "    number_of_legs = 4\n",
    "    def __init__(self, name, breed):\n",
    "        super().__init__(name)\n",
    "        self.breed = breed\n",
    "    def talk(self):\n",
    "        return f'{self.name} says Woof!'"
   ]
  },
  {
   "cell_type": "code",
   "execution_count": null,
   "metadata": {},
   "outputs": [],
   "source": [
    "sara = Dog('sara', 'street dog')"
   ]
  },
  {
   "cell_type": "code",
   "execution_count": null,
   "metadata": {},
   "outputs": [],
   "source": [
    "sara.talk()"
   ]
  },
  {
   "cell_type": "markdown",
   "metadata": {},
   "source": [
    "Part 3: Polymorphism"
   ]
  },
  {
   "cell_type": "markdown",
   "metadata": {},
   "source": [
    "There are three types of polymorphism:\n",
    "\n",
    "    1.Through Inheritance (Already covered in the example above)\n",
    "\n",
    "    2.Operator overloading\n",
    "    \n",
    "    3.Method Overloading"
   ]
  },
  {
   "cell_type": "markdown",
   "metadata": {},
   "source": [
    "Example of Operator Overloading. Here we have defined how to multiply a line_vector object with a number"
   ]
  },
  {
   "cell_type": "code",
   "execution_count": null,
   "metadata": {},
   "outputs": [],
   "source": [
    "class line_vector():\n",
    "    def __init__(self, lv):\n",
    "        self.lv = lv\n",
    "\n",
    "    def __mul__(self, other):\n",
    "        out = []\n",
    "        for i in self.lv:\n",
    "            out.append(i * other)        \n",
    "        return line_vector(out)\n"
   ]
  },
  {
   "cell_type": "code",
   "execution_count": null,
   "metadata": {},
   "outputs": [],
   "source": [
    "x = line_vector([1, 2, 3, 5])\n",
    "x.lv"
   ]
  },
  {
   "cell_type": "code",
   "execution_count": null,
   "metadata": {},
   "outputs": [],
   "source": [
    "p = 7 * x\n",
    "p.lv"
   ]
  },
  {
   "cell_type": "markdown",
   "metadata": {},
   "source": [
    "Example of method overloading: You can have multiple functions/methods have the same name as long as he functions have different arguement list."
   ]
  },
  {
   "cell_type": "code",
   "execution_count": 51,
   "metadata": {},
   "outputs": [],
   "source": [
    "class Line_vector():\n",
    "    def __init__(self, lv):\n",
    "        self.lv = lv\n",
    "        \n",
    "    def join_lv(self, other = ['oops']):\n",
    "        return self.lv + other\n",
    "    \n",
    " #   def join_lv(self, list1, list2):\n",
    " #       return self.lv + list1 + list2"
   ]
  },
  {
   "cell_type": "code",
   "execution_count": 52,
   "metadata": {},
   "outputs": [
    {
     "data": {
      "text/plain": [
       "[1, 2, 3, 4, 9, 2, 3]"
      ]
     },
     "execution_count": 52,
     "metadata": {},
     "output_type": "execute_result"
    }
   ],
   "source": [
    "x = Line_vector([1, 2, 3, 4, 9])\n",
    "\n",
    "x.join_lv([2, 3])"
   ]
  },
  {
   "cell_type": "code",
   "execution_count": 53,
   "metadata": {},
   "outputs": [
    {
     "data": {
      "text/plain": [
       "[1, 2, 3, 4, 9, 'oops']"
      ]
     },
     "execution_count": 53,
     "metadata": {},
     "output_type": "execute_result"
    }
   ],
   "source": [
    "x.join_lv()"
   ]
  },
  {
   "cell_type": "code",
   "execution_count": 54,
   "metadata": {},
   "outputs": [
    {
     "data": {
      "text/plain": [
       "[1, 2, 3, 4, 9, 'yay']"
      ]
     },
     "execution_count": 54,
     "metadata": {},
     "output_type": "execute_result"
    }
   ],
   "source": [
    "x.join_lv(['yay'])"
   ]
  }
 ],
 "metadata": {
  "kernelspec": {
   "display_name": "Python 3.9.1 64-bit",
   "language": "python",
   "name": "python3"
  },
  "language_info": {
   "codemirror_mode": {
    "name": "ipython",
    "version": 3
   },
   "file_extension": ".py",
   "mimetype": "text/x-python",
   "name": "python",
   "nbconvert_exporter": "python",
   "pygments_lexer": "ipython3",
   "version": "3.9.1"
  },
  "orig_nbformat": 4,
  "vscode": {
   "interpreter": {
    "hash": "3b91dac2b211f336313f6c5fdbf3bd35b30c663ee49c2170bf3e190576c36631"
   }
  }
 },
 "nbformat": 4,
 "nbformat_minor": 2
}
